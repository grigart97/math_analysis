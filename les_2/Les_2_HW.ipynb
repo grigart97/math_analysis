{
 "cells": [
  {
   "cell_type": "markdown",
   "metadata": {},
   "source": [
    "## Домашняя работа"
   ]
  },
  {
   "cell_type": "markdown",
   "metadata": {},
   "source": [
    "__1.__ Представьте в виде __несократимой__ рациональной дроби:\n",
    "\n",
    "### $$а)\\,\\,\\, 0.(216);$$\n"
   ]
  },
  {
   "cell_type": "markdown",
   "metadata": {},
   "source": [
    "#### <center>Решение</center>\n",
    "### $$x=0.(216)$$\n",
    "### $$1000x=216 + 0.(216)$$\n",
    "### $$1000x=216 + x$$\n",
    "### $$999x=216$$\n",
    "### $$x=\\frac{216}{999}=\\frac{73}{333}$$"
   ]
  },
  {
   "cell_type": "code",
   "execution_count": 4,
   "metadata": {},
   "outputs": [
    {
     "data": {
      "text/plain": [
       "0.21921921921921922"
      ]
     },
     "execution_count": 4,
     "metadata": {},
     "output_type": "execute_result"
    }
   ],
   "source": [
    "73/333"
   ]
  },
  {
   "cell_type": "markdown",
   "metadata": {},
   "source": [
    "\n",
    "### $$б)\\,\\,\\, 1.0(01).$$"
   ]
  },
  {
   "cell_type": "markdown",
   "metadata": {},
   "source": [
    "#### <center>Решение</center>\n",
    "### $$x=0.(01)$$\n",
    "### $$100x=1 + x$$\n",
    "### $$x=\\frac1{99}$$\n",
    "### $$y=1.0(01)$$\n",
    "### $$10y=10 + \\frac{1}{99}$$\n",
    "### $$10y=\\frac{991}{99}$$\n",
    "### $$y=\\frac{991}{990}$$"
   ]
  },
  {
   "cell_type": "code",
   "execution_count": 3,
   "metadata": {},
   "outputs": [
    {
     "data": {
      "text/plain": [
       "1.001010101010101"
      ]
     },
     "execution_count": 3,
     "metadata": {},
     "output_type": "execute_result"
    }
   ],
   "source": [
    "991/990"
   ]
  },
  {
   "cell_type": "markdown",
   "metadata": {},
   "source": [
    "__2*.__ Пусть $x =\\frac{2}{21}$. Известно, что для некоторого натурального $k$ число $x$ записывается в $k$ - ичной системе счисления как $0.(13)_k = 0,131313..._k$. Найдите $k$."
   ]
  },
  {
   "cell_type": "code",
   "execution_count": 2,
   "metadata": {},
   "outputs": [
    {
     "data": {
      "text/plain": [
       "0.09523809523809523"
      ]
     },
     "execution_count": 2,
     "metadata": {},
     "output_type": "execute_result"
    }
   ],
   "source": [
    "2/21"
   ]
  },
  {
   "cell_type": "markdown",
   "metadata": {},
   "source": [
    "### $$x = 0.(13)_k$$\n",
    "### $$k^2x = 13 + x$$\n",
    "### $$x = \\frac{13}{k^2-1}$$\n",
    "### $$\\frac{2}{21} = \\frac{13}{k^2-1}$$\n",
    "### $$2k^2 - 2 = 21k + 63$$\n",
    "### $$2k^2 - 21k - 65 = 0$$\n",
    "### $$D = 21^2 - 4 \\cdot 65 \\cdot 2 = 961$$\n",
    "### $$k_{1/2}=\\frac{21 \\pm 31}{4}$$\n",
    "### $$k_1 = -2.5 \\enspace k_2 = 13$$\n",
    "### $$k_1 \\notin \\mathbb{N}$$\n",
    "### $$Ответ: k = 13$$ "
   ]
  },
  {
   "cell_type": "markdown",
   "metadata": {},
   "source": [
    "__3.__ Проверьте любым способ, является ли данные логические формулы тавтологией:\n",
    "\n",
    "### $$a)\\,\\,\\, (A \\vee B) \\rightarrow (B \\vee\\overline A)$$"
   ]
  },
  {
   "cell_type": "markdown",
   "metadata": {},
   "source": [
    "#### <center>Решим с помощью таблицы истинности</center>\n",
    "\n",
    "### $$Количество \\, строк=2^2=4$$\n",
    "\n",
    "<table>\n",
    "    <thead>\n",
    "        <tr>\n",
    "            <th>$A$</th>\n",
    "            <th>$B$</th>\n",
    "            <th>$\\overline A$</th>\n",
    "            <th>$A \\vee B$</th>\n",
    "            <th>$B \\vee \\overline A$</th>\n",
    "            <th>$(A \\vee B) \\rightarrow (B \\vee \\overline A)$</th>\n",
    "        </tr>\n",
    "    </thead>\n",
    "    <tbody>\n",
    "            <tr>\n",
    "                <td>$0$</td>\n",
    "                <td>$0$</td>\n",
    "                <td>$1$</td>\n",
    "                <td>$0$</td>\n",
    "                <td>$1$</td>\n",
    "                <td>$1$</td>\n",
    "            </tr>\n",
    "            <tr>\n",
    "                <td>$0$</td>\n",
    "                <td>$1$</td>\n",
    "                <td>$1$</td>\n",
    "                <td>$1$</td>\n",
    "                <td>$1$</td>\n",
    "                <td>$1$</td>\n",
    "            </tr>\n",
    "            <tr>\n",
    "                <td>$1$</td>\n",
    "                <td>$0$</td>\n",
    "                <td>$0$</td>\n",
    "                <td>$1$</td>\n",
    "                <td>$0$</td>\n",
    "                <td>$0$</td>\n",
    "            </tr>\n",
    "            <tr>\n",
    "                <td>$1$</td>\n",
    "                <td>$1$</td>\n",
    "                <td>$0$</td>\n",
    "                <td>$1$</td>\n",
    "                <td>$1$</td>\n",
    "                <td>$1$</td>\n",
    "            </tr>\n",
    "    </tbody>\n",
    "</table>\n",
    "\n",
    "#### Ответ: _Данное логическое выражение не является тавтологией_"
   ]
  },
  {
   "cell_type": "markdown",
   "metadata": {},
   "source": [
    "### $$б)\\,\\,\\, A \\rightarrow (A \\vee (\\overline B \\wedge A))$$"
   ]
  },
  {
   "cell_type": "markdown",
   "metadata": {},
   "source": [
    "#### <center>Решим с помощью упрощения</center>\n",
    "### $$Так\\,как \\, A \\vee (\\overline B \\wedge A) = A$$\n",
    "### $$То\\,A \\rightarrow (A \\vee (\\overline B \\wedge A))=A \\rightarrow A = 1$$\n",
    "#### Ответ: _Данное логическое выражение является тавтологией_"
   ]
  },
  {
   "cell_type": "markdown",
   "metadata": {},
   "source": [
    "__4.__ Сформулируйте словесно высказывания:\n",
    "### $$a)\\,\\,\\, (\\overline A \\vee B) \\rightarrow \\overline C$$\n",
    "### $$б)\\,\\,\\, C \\rightarrow (A \\vee \\overline B)$$\n",
    "\n",
    "- $A:\\,\\,\\,$ сегодня светит солнце; \n",
    "- $B:\\,\\,\\,$ сегодня сыро; \n",
    "- $C:\\,\\,\\,$ я поеду на дачу. "
   ]
  },
  {
   "cell_type": "markdown",
   "metadata": {},
   "source": [
    "#### <center>Решение</center>\n",
    "### $$a)\\,\\,\\,(\\overline A \\vee B) \\rightarrow \\overline C$$\n",
    "Если сегодня __не__ светит солнце __или__ сегодня сыро, то я __не__ поеду на дачу.\n",
    "### $$б)\\,\\,\\,C \\rightarrow (A \\vee \\overline B)$$\n",
    "Если я поеду на дачу, то сегодня светит солнце или сегодня __не__ сыро."
   ]
  },
  {
   "cell_type": "markdown",
   "metadata": {},
   "source": [
    "__5.__  Пользуясь правилом построения противоположного высказывания, запишите утверждения, противоположные следующим:\n",
    "\n",
    "a) На любом курсе каждого факультета есть студенты, сдающие все экзамены на «отлично».  \n",
    "б) В любом самолете на рейсе Вашингтон-Москва присутствует хотя бы один сотрудник силовых органов, в каждой пуговице одежды которого вмонтирован микрофон."
   ]
  },
  {
   "cell_type": "markdown",
   "metadata": {},
   "source": [
    "#### Решение\n",
    "а) __Есть__ курсы на __некоторых__ факультетах, где __все__ студенты __не сдают__ __хотя бы один__ экзамен на \"отлично\".  \n",
    "б) В __хотя бы одном__ самолёте на рейсе Вашингтон-Москва __все__ посажиры __не являются__ сотрудниками силовых органов, __хотя бы в одной__ из пуговиц которых __не вмонтирован__ микрофон."
   ]
  },
  {
   "cell_type": "markdown",
   "metadata": {},
   "source": [
    "__6*.__ Прочитайте высказывания, установите их истинность и постройте противоположное высказывание:\n",
    "\n",
    "### $$a)\\,\\,\\, \\forall x\\in\\mathbb{R}\\,\\,\\,\\exists X\\in\\mathbb{R}:\\,\\,\\, X>x;$$\n",
    "### $$б)\\,\\,\\, \\forall y\\in\\Bigl[0; \\frac{\\pi}{2}\\Bigr]\\,\\,\\,\\exists \\varepsilon>0:\\,\\,\\, \\sin y<\\sin(y+\\varepsilon);$$\n",
    "### $$в)\\,\\,\\, \\forall y\\in\\Bigl[0; \\pi\\Bigr)\\,\\,\\,\\exists \\varepsilon>0:\\,\\,\\, \\cos y>\\cos(y+\\varepsilon).$$"
   ]
  },
  {
   "cell_type": "markdown",
   "metadata": {},
   "source": [
    "__а)__  \n",
    "_Высказывание в текстовом виде:_  \n",
    "Для __любого__ икс малого, __принадлежащего__ действительным числам, __существует__ икс большое, __принадлежащее__ действительным числам, которое будет __больше__ икс малого  \n",
    "_Противоположное высказывание:_  \n",
    "Для __любого__ икс большого, __не принадлежащего__ действительным числам, __существует__ икс малое, __не принадлежащие__ действительным числам, которое будет __больше__ икс большого\n",
    "### $$\\exists x \\notin \\mathbb{R} \\enspace \\forall X \\notin \\mathbb{R}: \\enspace X < x$$"
   ]
  },
  {
   "cell_type": "markdown",
   "metadata": {},
   "source": [
    "__б)__  \n",
    "_Высказывание в текстовом виде:_  \n",
    "Для __любого__ $y$ от 0 до $\\frac{\\pi}{2}$ включительно __существует__ $\\varepsilon$, который __больше__ нуля, для которых справедливо, что синус от $y$ __меньше__ синуса от суммы $у$ и $\\varepsilon$  \n",
    "_Противоположное высказывание:_  \n",
    "Для __любого__ $\\varepsilon$ __меньше__ нуля __существует__ $y$ __вне промежутка__ от 0 до $\\frac{\\pi}{2}$, для которых справедливо, что синус от $y$ __больше__ синуса от суммы $y$ и $\\varepsilon$  \n",
    "### $$\\forall \\varepsilon < 0 \\enspace \\exists y \\notin \\Bigl[0; \\frac{\\pi}{2}\\Bigr]: \\enspace \\sin y > \\sin (y + \\varepsilon)$$"
   ]
  },
  {
   "cell_type": "markdown",
   "metadata": {},
   "source": [
    "__б)__  \n",
    "_Высказывание в текстовом виде:_  \n",
    "Для __любого__ $y$ от 0 вклчительно до $\\pi$ не включительно __существует__ $\\varepsilon$, который __больше__ нуля, для которых справедливо, что косинус от $y$ __больше__ косинуса от суммы $у$ и $\\varepsilon$  \n",
    "_Противоположное высказывание:_  \n",
    "Для __любого__ $\\varepsilon$ __меньше__ нуля __существует__ $y$ __вне промежутка__ от минус бесконечности до 0 исключительно и от $\\pi$ включительно до плюс бесконечности, для которых справедливо, что косинус от $y$ __меньше__ косинуса от суммы $y$ и $\\varepsilon$  \n",
    "### $$\\forall \\varepsilon < 0 \\enspace \\exists y \\notin [0; \\pi): \\enspace \\cos y < \\cos (y + \\varepsilon)$$"
   ]
  }
 ],
 "metadata": {
  "kernelspec": {
   "display_name": "Python 3",
   "language": "python",
   "name": "python3"
  },
  "language_info": {
   "codemirror_mode": {
    "name": "ipython",
    "version": 3
   },
   "file_extension": ".py",
   "mimetype": "text/x-python",
   "name": "python",
   "nbconvert_exporter": "python",
   "pygments_lexer": "ipython3",
   "version": "3.8.5"
  }
 },
 "nbformat": 4,
 "nbformat_minor": 4
}
