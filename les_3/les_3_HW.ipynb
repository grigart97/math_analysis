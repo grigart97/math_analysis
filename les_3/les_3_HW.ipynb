{
 "cells": [
  {
   "cell_type": "markdown",
   "metadata": {},
   "source": [
    "## Домашняя работа 3"
   ]
  },
  {
   "cell_type": "code",
   "execution_count": 1,
   "metadata": {},
   "outputs": [],
   "source": [
    "import math"
   ]
  },
  {
   "cell_type": "markdown",
   "metadata": {},
   "source": [
    "__1.__ Найти предел последовательности:\n",
    "$$а)\\,\\,\\,\\,\\lim_{n\\to \\infty} \\frac{(23-2n^2)(3n^2+17)^2}{4n^6+n-1}=\\lim_{n\\to \\infty} \\frac{(23-2n^2)(9n^4+102n^2+289)}{4n^6+n-1}=\\lim_{n\\to \\infty} \\Bigl(\\frac{18n^6}{4n^6}\\Bigr)=\\frac{18}{4}=4.5$$  \n",
    "$$б)\\,\\,\\,\\,\\lim_{n\\to \\infty} \\frac{(97-2n)^3}{2n(3n^2+15)+8n}=\\lim_{n\\to \\infty} \\frac{8n^3}{6n^3}=\\frac86=1.(3)$$  \n",
    "$$в)\\,\\,\\,\\,\\lim_{n\\to \\infty} \\frac{2n^3+13n(n+18)}{(27-n)(2n+19)^2}=\\lim_{n\\to \\infty} \\frac{2n^3}{4n^3}=0.5$$  \n",
    "$$г)\\,\\,\\,\\,\\lim_{n\\to \\infty} (\\sqrt{n^2+1}-n)=\\lim_{n\\to \\infty} \\frac{(\\sqrt{n^2+1}-n)(\\sqrt{n^2+1}+n)}{\\sqrt{n^2+1}+1}=\\lim_{n\\to \\infty} \\frac{n^2+1-n^2}{\\sqrt{n^2+1}+1}=0$$  \n",
    "$$д)\\,\\,\\,\\,\\lim_{n\\to \\infty} \\frac{(-4)^n+5\\cdot7^n}{(-4)^{n-1}+7^{n+2}}=\\lim_{n\\to \\infty} \\frac{7^n\\Bigl(\\Bigl(-\\frac{4}{7}\\Bigr)^n+5\\Bigr)}{7^n\\Bigl(\\frac14\\Bigl(-\\frac{4}{7}\\Bigr)^n-1+49\\Bigr)}=4$$  \n",
    "$$e)^*\\,\\,\\,\\,\\lim_{n\\to \\infty} \\Bigl(\\frac{1}{1\\cdot2}+\\frac{1}{2\\cdot3}+\\frac{1}{3\\cdot4}+...+\\frac{1}{(n-1)\\cdot n}\\Bigr)$$"
   ]
  },
  {
   "cell_type": "markdown",
   "metadata": {
    "id": "U7nB-PQaI9UL"
   },
   "source": [
    "__2.__ Представьте $1$ в виде суммы трех рациональных дробей с разными знаменателями и числителем равным $1$."
   ]
  },
  {
   "cell_type": "markdown",
   "metadata": {},
   "source": [
    "### Решение\n",
    "#### $$\\frac12+\\frac13+\\frac16=1$$"
   ]
  },
  {
   "cell_type": "markdown",
   "metadata": {
    "id": "tCoNtjxgI9UL"
   },
   "source": [
    "__3$^*$.__ Тоже задание, только в виде суммы шести дробей."
   ]
  },
  {
   "cell_type": "markdown",
   "metadata": {},
   "source": [
    "### Решение\n",
    "#### $$\\frac12+\\frac13+\\frac17+\\frac1{2*3*7}=\\frac12+\\frac13+\\frac17+\\frac1{42}=1$$"
   ]
  },
  {
   "cell_type": "code",
   "execution_count": 23,
   "metadata": {},
   "outputs": [
    {
     "data": {
      "text/plain": [
       "0.9999999999999999"
      ]
     },
     "execution_count": 23,
     "metadata": {},
     "output_type": "execute_result"
    }
   ],
   "source": [
    "1 / 2 + 1 / 3 + 1 / 7 + 1 / 42"
   ]
  },
  {
   "cell_type": "markdown",
   "metadata": {},
   "source": [
    "#### $$ \\frac{21+14+6+1}{42}=\\frac{42}{42}=1$$"
   ]
  },
  {
   "cell_type": "markdown",
   "metadata": {},
   "source": [
    "Возьмём решение второй задачи и представим домножим на $\\frac1{42}$.\n",
    "#### $$\\frac1{84}+\\frac1{126}+\\frac1{252}=1/42$$\n",
    "Подставим в наше первое равенство\n",
    "#### $$\\frac12+\\frac13+\\frac17+\\frac1{84}+\\frac1{126}+\\frac1{252}=1$$"
   ]
  },
  {
   "cell_type": "code",
   "execution_count": 24,
   "metadata": {},
   "outputs": [
    {
     "data": {
      "text/plain": [
       "0.9999999999999998"
      ]
     },
     "execution_count": 24,
     "metadata": {},
     "output_type": "execute_result"
    }
   ],
   "source": [
    "1 / 2 + 1 / 3 + 1 / 7 + 1 / 84 + 1 / 126 + 1 / 252"
   ]
  },
  {
   "cell_type": "code",
   "execution_count": 25,
   "metadata": {},
   "outputs": [
    {
     "data": {
      "text/plain": [
       "252"
      ]
     },
     "execution_count": 25,
     "metadata": {},
     "output_type": "execute_result"
    }
   ],
   "source": [
    "126+84+36+3+2+1"
   ]
  },
  {
   "cell_type": "markdown",
   "metadata": {},
   "source": [
    "$$\\frac{126+84+36+3+2+1}{252}=\\frac{252}{252}=1$$"
   ]
  },
  {
   "cell_type": "markdown",
   "metadata": {
    "id": "optrtoUHI9UM"
   },
   "source": [
    "__4.__ Пользуясь критерием Коши, докажите сходимость последовательности:\n",
    "\n",
    "### $$a_n=\\frac{\\sin1}{2}+\\frac{\\sin2}{2^2}+\\frac{\\sin3}{2^3}+..\\frac{\\sin n}{2^n}\\,\\,\\,\\,\\,\\Rightarrow$$\n",
    "\n",
    "### $$\\Bigl\\{a_n\\Bigr\\}_{n=1}^\\infty=\\Bigl\\{\\frac{\\sin1}{2}, \\frac{\\sin1}{2}+\\frac{\\sin2}{2^2}, ..., a_n,...\\Bigr\\}$$\n",
    "\n",
    "\n",
    "$^*$ Какой член последовательности можно взять в качестве предела с точностью $\\varepsilon=10^{-7}$?"
   ]
  },
  {
   "cell_type": "markdown",
   "metadata": {},
   "source": [
    "### Решение\n",
    "$$\\Bigl|a_n-a_{n+1}\\Bigr|=\\Bigl|\\frac{\\sin{(n+1)}}{2^{n+1}}\\Bigr|<\\varepsilon$$  \n",
    "$$\\Bigl|\\frac{\\sin{(n+1)}}{2^{n+1}}\\Bigr|=\\frac{1}{2^n}\\Bigl|\\frac{\\sin{(n+1)}}{2}\\Bigl|$$  \n",
    "$$0\\leq\\Bigl|\\frac{\\sin{(n+1)}}{2}\\Bigl|<1 \\Rightarrow \\frac{1}{2^n}\\Bigl|\\frac{\\sin{(n+1)}}{2}\\Bigl|<\\frac{1}{2^n}=\\frac{1}{2^{N(\\varepsilon)}}=\\varepsilon$$  \n",
    "$$\\frac{1}{2^{N(\\varepsilon)}}=\\varepsilon \\Rightarrow 2^{N(\\varepsilon)}=\\frac{1}{\\varepsilon} \\Rightarrow N(\\varepsilon)=\\log_2{\\frac{1}{\\varepsilon}}=-\\log_2{\\varepsilon}$$"
   ]
  },
  {
   "cell_type": "code",
   "execution_count": 2,
   "metadata": {},
   "outputs": [
    {
     "name": "stdout",
     "output_type": "stream",
     "text": [
      "N=23.25349666421154\n",
      "a_24 - a_23 = -5.397667658368491e-08\n",
      "True\n"
     ]
    }
   ],
   "source": [
    "eps = 10 ** (-7)\n",
    "N = -math.log(eps, 2)\n",
    "n = math.ceil(N)\n",
    "diff = math.sin(n) / (2 ** n)\n",
    "\n",
    "print(f'N={N}\\na_{n} - a_{n-1} = {diff}')\n",
    "print(True if diff < eps else False)"
   ]
  },
  {
   "cell_type": "markdown",
   "metadata": {
    "id": "a2r-dr5MI9UM"
   },
   "source": [
    "__5$^*$.__  Пользуясь критерием Коши, докажите расходимость последовательности:\n",
    "\n",
    "### $$b_n=1+\\frac{1}{2}+\\frac{1}{3}+..\\frac{1}{n}\\,\\,\\,\\,\\,\\Rightarrow$$\n",
    "\n",
    "### $$\\Bigl\\{b_n\\Bigr\\}_{n=1}^\\infty=\\Bigl\\{1, 1+\\frac{1}{2},1+\\frac{1}{2}+\\frac{1}{3}, ..., b_n,...\\Bigr\\}$$"
   ]
  },
  {
   "cell_type": "markdown",
   "metadata": {},
   "source": [
    "### Решение\n",
    "$$\\varepsilon=10^{-7}$$  \n",
    "$$|b_n-b_{n+1}|=\\Bigr|\\frac1n\\Bigl|\\geq\\varepsilon$$  \n",
    "$$n \\in \\mathbb{N} \\Rightarrow \\frac1n\\geq\\varepsilon$$  \n",
    "$$\\frac{1}{N(\\varepsilon)}\\geq\\varepsilon$$  \n",
    "$$N(\\varepsilon)\\geq\\frac1{\\varepsilon} \\Rightarrow N(\\varepsilon)=\\frac1{\\varepsilon}$$"
   ]
  },
  {
   "cell_type": "code",
   "execution_count": 10,
   "metadata": {},
   "outputs": [
    {
     "name": "stdout",
     "output_type": "stream",
     "text": [
      "N=100.0\n",
      "a_100 - a_99 = 0.01\n",
      "eps=0.01\n",
      "False\n"
     ]
    }
   ],
   "source": [
    "eps = 10 **(-2)\n",
    "N = 1 / eps\n",
    "n = math.ceil(N)\n",
    "diff = 1 / n\n",
    "\n",
    "print(f'N={N}\\na_{n} - a_{n-1} = {diff}')\n",
    "print(f'eps={eps}')\n",
    "print(True if diff < eps else False)"
   ]
  }
 ],
 "metadata": {
  "kernelspec": {
   "display_name": "Python 3",
   "language": "python",
   "name": "python3"
  },
  "language_info": {
   "codemirror_mode": {
    "name": "ipython",
    "version": 3
   },
   "file_extension": ".py",
   "mimetype": "text/x-python",
   "name": "python",
   "nbconvert_exporter": "python",
   "pygments_lexer": "ipython3",
   "version": "3.8.5"
  }
 },
 "nbformat": 4,
 "nbformat_minor": 4
}
