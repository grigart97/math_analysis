{
 "cells": [
  {
   "cell_type": "markdown",
   "metadata": {
    "id": "zz7SDkPIkVlM"
   },
   "source": [
    "# Урок 3"
   ]
  },
  {
   "cell_type": "markdown",
   "metadata": {
    "id": "p_3vqG5-kVlP"
   },
   "source": [
    "# Предел последовательности"
   ]
  },
  {
   "cell_type": "markdown",
   "metadata": {
    "id": "nrnBh0IoI9Th"
   },
   "source": [
    "Курс математического анализа мы начнем с разбора сразу двух определений: __последовательности__ и их __пределов__. \n",
    "    \n",
    "    \n",
    "    "
   ]
  },
  {
   "cell_type": "markdown",
   "metadata": {
    "id": "ahp6dSlkI9Th"
   },
   "source": [
    "### Определение\n",
    "\n",
    "__Последовательность__ — это пронумерованный набор каких-либо объектов, среди которых допускаются повторения, причём __порядок объектов имеет значение.__ То есть в качестве элементов последовательности может быть всё что угодно. Например: дни недели, смена времен года, наше расписание занятий и даже распорядок Вашего дня (с оговоркой, что порядок выполнения целей строгий). \n",
    "\n",
    "Мы же с Вами изучим числовые последовательности. Где в качестве нумерации элементов последовательности возьмем натуральные числа $n\\in\\mathbb {N}$ начиная с $1$\n",
    "\n",
    "В качестве обозначения последовательности обычно используют строчные латинские буквы в кавычках\n",
    "\n",
    "### $$\\Bigl\\{a_n\\Bigr\\}_{n=1}^\\infty$$\n",
    "\n",
    "Можно выделить два способа задания числовой последовательности:\n",
    "\n",
    "1. Явный. В этом случае есть конкретная формула для получения $n$ - го члена последовательности. Эту формулу называют главным членом последовательности\n",
    "\n",
    "### $$a_n=(-1)^{n+1}\\,\\,\\,\\,\\,\\Rightarrow\\,\\,\\,\\,\\,\\Bigl\\{a_n\\Bigr\\}_{n=1}^\\infty=\\Bigl\\{1, -1, 1, -1, ..., (-1)^{n+1},...\\Bigr\\}$$\n",
    "\n",
    "### $$b_n=2n-1\\,\\,\\,\\,\\,\\Rightarrow\\,\\,\\,\\,\\,\\Bigl\\{b_n\\Bigr\\}_{n=1}^\\infty=\\Bigl\\{1, 3, 5, 7, 9, 11,..., 2n-1,...\\Bigr\\}$$\n",
    "\n",
    "### $$c_n=n^2\\,\\,\\,\\,\\,\\Rightarrow\\,\\,\\,\\,\\,\\Bigl\\{c_n\\Bigr\\}_{n=1}^\\infty=\\Bigl\\{1, 4, 9, 16, 25, 36,..., n^2,...\\Bigr\\}$$\n",
    "\n",
    "Такой способ задания последовательности является довольно информативным, хотя и не всегда возможен. На python обычно такие последовательности задаются в следующем виде.\n"
   ]
  },
  {
   "cell_type": "code",
   "execution_count": null,
   "metadata": {
    "id": "fpQah1eXI9Tj",
    "outputId": "65409385-7b99-4972-e889-22fe16b121cf"
   },
   "outputs": [
    {
     "name": "stdout",
     "output_type": "stream",
     "text": [
      "[1, -1, 1, -1, 1, -1, 1, -1, 1, -1, 1, -1, 1, -1, 1, -1, 1, -1, 1, -1]\n"
     ]
    }
   ],
   "source": [
    "n = 20\n",
    "a = [0]*n\n",
    "for i in range(n):\n",
    "    a[i] = (-1)**i\n",
    "print(a)"
   ]
  },
  {
   "cell_type": "code",
   "execution_count": null,
   "metadata": {
    "id": "DDNjxBMOI9Tn",
    "outputId": "e6fd737f-6893-450b-c21e-c1e0561a57c0"
   },
   "outputs": [
    {
     "name": "stdout",
     "output_type": "stream",
     "text": [
      "[1, 3, 5, 7, 9, 11, 13, 15, 17, 19, 21, 23, 25, 27, 29, 31, 33, 35, 37, 39]\n"
     ]
    }
   ],
   "source": [
    "n = 20\n",
    "a = [0]*n\n",
    "for i in range(n):\n",
    "    a[i] = 2*i+1\n",
    "print(a)"
   ]
  },
  {
   "cell_type": "code",
   "execution_count": null,
   "metadata": {
    "id": "ZlxC5AAHI9To",
    "outputId": "f48fae19-5c4a-4398-a1ad-fab4848e0679"
   },
   "outputs": [
    {
     "name": "stdout",
     "output_type": "stream",
     "text": [
      "[1, 4, 9, 16, 25, 36, 49, 64, 81, 100, 121, 144, 169, 196, 225, 256, 289, 324, 361, 400]\n"
     ]
    }
   ],
   "source": [
    "n = 20\n",
    "a = [0]*n\n",
    "for i in range(n):\n",
    "    a[i] = (i+1)**2\n",
    "print(a)"
   ]
  },
  {
   "cell_type": "markdown",
   "metadata": {
    "id": "lJ9zjwbtI9To"
   },
   "source": [
    "2. Неявный. То есть когда член последовательности имеет порядок, то есть номер. Но при этом явно зависит не от него, а от других элементов последовательности. \n",
    "\n",
    "В качестве примера можно изучить последовательности Фибоначчи. Где первый и второй члены равны $1$, а все остальные получаются в виде суммы двух предыдущих.\n",
    "\n",
    "### $$a_n=a_{n-1}+a_{n-2}, \\,\\,\\,\\,\\,\\,n>2$$"
   ]
  },
  {
   "cell_type": "code",
   "execution_count": null,
   "metadata": {
    "id": "7pwk_sUgI9Tp",
    "outputId": "c60f85bd-d9fd-40bf-927d-d591450b6f5f"
   },
   "outputs": [
    {
     "name": "stdout",
     "output_type": "stream",
     "text": [
      "[1, 1, 2, 3, 5, 8, 13, 21, 34, 55, 89, 144, 233, 377, 610, 987, 1597, 2584, 4181, 6765]\n"
     ]
    }
   ],
   "source": [
    "n = 20\n",
    "a = [0] * n\n",
    "\n",
    "a[0] = 1\n",
    "a[1] = 1\n",
    "\n",
    "for i in range(2, n, 1):\n",
    "    a[i] = a[i - 1] + a[i - 2]\n",
    "print(a)"
   ]
  },
  {
   "cell_type": "markdown",
   "metadata": {
    "id": "ZuGhiXhvI9Tq"
   },
   "source": [
    "С помощью данной последовательности можно получить \"Золотое сечение\". Есть предположение, что оно используется природой, для программирования отношений длин частей тела."
   ]
  },
  {
   "cell_type": "code",
   "execution_count": null,
   "metadata": {
    "id": "k5BtxrBJI9Tr",
    "outputId": "93c69910-4baa-4fef-969d-09e490061bd5"
   },
   "outputs": [
    {
     "name": "stdout",
     "output_type": "stream",
     "text": [
      "1.0\n",
      "0.5\n",
      "0.6666666666666666\n",
      "0.6\n",
      "0.625\n",
      "0.6153846153846154\n",
      "0.6190476190476191\n",
      "0.6176470588235294\n",
      "0.6181818181818182\n",
      "0.6179775280898876\n",
      "0.6180555555555556\n",
      "0.6180257510729614\n",
      "0.6180371352785146\n",
      "0.6180327868852459\n",
      "0.6180344478216818\n",
      "0.6180338134001252\n",
      "0.6180340557275542\n",
      "0.6180339631667066\n",
      "0.6180339985218034\n"
     ]
    }
   ],
   "source": [
    "for i in range(1, n, 1):\n",
    "    print(a[i-1]/a[i])"
   ]
  },
  {
   "cell_type": "markdown",
   "metadata": {
    "id": "wD-UubJeI9Tr"
   },
   "source": [
    "Как правило способ задания последовательности только единственный, но иногда можно переходить от одного типа к другому. \n",
    "\n",
    "В качестве хорошего примера можно вспомнить арифметическую и геометрическую последовательность из школьного курса:\n",
    "\n",
    "Арифметическую последовательность $a_n=a_{n-1}+6$, где $a_1=3$  можно записать в видео $a_n=6(n-1)+3$\n"
   ]
  },
  {
   "cell_type": "code",
   "execution_count": null,
   "metadata": {
    "id": "7sBTCV6cI9Ts",
    "outputId": "07fe3daa-2610-418a-9660-0d277c2977b3"
   },
   "outputs": [
    {
     "name": "stdout",
     "output_type": "stream",
     "text": [
      "[3, 9, 15, 21, 27, 33, 39, 45, 51, 57, 63, 69, 75, 81, 87, 93, 99, 105, 111, 117]\n",
      "[3, 9, 15, 21, 27, 33, 39, 45, 51, 57, 63, 69, 75, 81, 87, 93, 99, 105, 111, 117]\n"
     ]
    }
   ],
   "source": [
    "n = 20\n",
    "a = [0]*n\n",
    "\n",
    "a[0] = 3\n",
    "for i in range(1, n, 1):\n",
    "    a[i] = a[i-1]+6\n",
    "print(a)\n",
    "\n",
    "for i in range(n):\n",
    "    a[i] = 6*i+3\n",
    "print(a)"
   ]
  },
  {
   "cell_type": "markdown",
   "metadata": {
    "id": "sfrQ61axI9Tt"
   },
   "source": [
    "Геометрическую последовательность $b_n=b_{n-1}\\cdot 3$, где $b_1=2$  можно записать в видео $b_n=3^{n-1}\\cdot2$"
   ]
  },
  {
   "cell_type": "code",
   "execution_count": null,
   "metadata": {
    "id": "bnbLvzS8I9Tt",
    "outputId": "9b40756e-8f89-4ddd-de80-8fdd1e6577af"
   },
   "outputs": [
    {
     "name": "stdout",
     "output_type": "stream",
     "text": [
      "[2, 6, 18, 54, 162, 486, 1458, 4374, 13122, 39366]\n",
      "[2, 6, 18, 54, 162, 486, 1458, 4374, 13122, 39366]\n"
     ]
    }
   ],
   "source": [
    "n = 10\n",
    "b = [0]*n\n",
    "\n",
    "b[0] = 2\n",
    "for i in range(1, n, 1):\n",
    "    b[i] = b[i-1] * 3\n",
    "print(b)\n",
    "\n",
    "for i in range(n):\n",
    "    b[i] = 3**i * 2\n",
    "print(b)"
   ]
  },
  {
   "cell_type": "markdown",
   "metadata": {
    "id": "_hvRs5tcI9Tu"
   },
   "source": [
    "### Сходимость\n",
    "\n",
    "Что же находится в конце последовательности? Чем она закончится? Это сложный вопрос, на который мы не знаем ответ. Потому что последовательности бесконечны.\n",
    "\n",
    "__Математический анализ - это наука о приближениях.__ И чем дальше мы будет погружаться в этот курс, тем больше будет понятно что эта наука не точная.\n",
    "\n",
    "Говоря о сходимости числовой последовательности, мы имеем в виду что начиная с какого-то номера $n$ все последующие члены будут собираться в окрестности какого числа, например $A$. В качестве такой окрестности принято брать число $\\varepsilon>0$ (эпсилон большее нуля).\n",
    "<img src=\"https://i.ibb.co/JtMqCBD/image.png\"  width = 500/>\n",
    "\n",
    "При этом $A$ может принимать различные значения. В общем случае случаи разберемся с ними чуть позже, а пока выделим два особых случая.\n",
    "\n",
    "- если $A$ равна нулю, то последовательность $\\Bigl\\{a_n\\Bigr\\}_{n=1}^\\infty$ называют __бесконечно малой__.\n",
    "- если же $A$ не может собрать $a_n$ в окрестность и они постоянно растут или наоборот уменьшаются, то $A=\\pm\\infty$. Последовательность$\\Bigl\\{a_n\\Bigr\\}_{n=1}^\\infty$ в таком случае называют __бесконечно большой__.\n",
    "\n",
    "Два эти понятия помогут нам в практики взятия пределов последовательности. Но также они используются для описания порядка ошибок или сложности тех или иных алгоритмов в программировании.\n",
    "\n",
    "Например:\n",
    "\n",
    "- $o(n^3)$ читается как малая величина от $n$ в кубе. Обычно употребляется для обозначения порядка ошибки. Т.е. алгоритм дает правильный ответ с небольшой погрешностью, которая зависит от числа данных в кубе.\n",
    "- $O(n^2)$ читается как большая величина от $n$ в квадрате. Обычно употребляется для обозначения сложности алгоритма. Т.е. число шагов в алгоритме зависит от количества данных в квадрате.\n"
   ]
  },
  {
   "cell_type": "markdown",
   "metadata": {
    "id": "go5zV-sWI9Tv"
   },
   "source": [
    "### Предел последовательности\n",
    "\n",
    "Предел последовательности записывается в следящем виде \n",
    "\n",
    "### $$\\lim_{n\\to \\infty} a_n=A$$\n",
    "\n",
    "Читается как предел последовательности $\\Bigl\\{a_n\\Bigr\\}_{n=1}^\\infty$ при $n$ стремящемуся к бесконечности равен $A$. \n",
    "\n",
    "Существует довольно много определений предела последовательности. Мы разберемся с самым простым в понимании.\n",
    "\n",
    "#### Определение\n",
    "\n",
    "Для любого $\\varepsilon>0$ существует номер $N(\\varepsilon)$, такой\n",
    "что, для любого $n>N(\\varepsilon)$ верно неравенство $|a_n-A|<\\varepsilon$.\n",
    "\n",
    "### $$\\forall\\varepsilon>0\\,\\,\\,\\exists N(\\varepsilon), \\,\\,\\,\\forall n>N(\\varepsilon):|a_n-A|<\\varepsilon$$\n",
    "\n",
    "Есть в этом определение одна неприятная вещь: чтобы дать определение предела, нам нужно знать сам предел. Что звучит довольно странно. \n",
    "\n",
    "К тому же бывают такие ситуации когда нам нужно просто знать: существует предел или нет. Поэтому введем критерий сходимости Коши.\n",
    "\n",
    "#### Критерий сходимости Коши\n",
    "\n",
    "Для любого $\\varepsilon>0$ существует номер $N(\\varepsilon)$, такой\n",
    "что, для любого $n>N(\\varepsilon)$ и любого $k\\geq1$ верно неравенство $|a_n-a_{n+k}|<\\varepsilon$.\n",
    "\n",
    "### $$\\forall\\varepsilon>0\\,\\,\\,\\exists N(\\varepsilon), \\,\\,\\,\\forall n>N(\\varepsilon)\\,\\,\\,\\forall k\\geq1:|a_n-a_{n+k}|<\\varepsilon$$\n",
    "\n",
    "В качестве примера возьмем бесконечную убывающую прогрессию\n",
    "\n",
    "### $$a_n=\\frac{1}{2^n}\\,\\,\\,\\,\\,\\Rightarrow\\,\\,\\,\\,\\,\\Bigl\\{a_n\\Bigr\\}_{n=1}^\\infty=\\Bigl\\{\\frac{1}{2}, \\frac{1}{4}, \\frac{1}{8}, \\frac{1}{16}, ..., \\frac{1}{2^n},...\\Bigr\\}$$\n",
    "\n",
    "Интуитивно понятно, что \n",
    "\n",
    "### $$\\lim_{n\\to \\infty} \\frac{1}{2^n}=0$$\n",
    "\n",
    "Но разберем этот пример с точки зрения критерия Коши. Докажем сходимость этой последовательности и даже дадим оценку для $n$, после которого все $a_n$ будут достаточно близки к пределу.\n",
    "\n",
    "Начнем с конца, нам нужно что \n",
    "### $$|a_n-a_{n+k}|<\\varepsilon$$\n",
    "\n",
    "Сделаем оценку сверху\n",
    "\n",
    "### $$|a_n-a_{n+k}|=\\Bigl|\\frac{1}{2^n}-\\frac{1}{2^{n+k}}\\Bigr|=$$\n",
    "\n",
    "### $$=\\frac{1}{2^n}\\Bigl|1-\\frac{1}{2^{k}}\\Bigr|<\\frac{1}{2^n}<\\frac{1}{2^{N(\\varepsilon)}}=\\varepsilon$$\n",
    "\n",
    "Тот факт, что нам удалось найти связть между $N(\\varepsilon)$ уже говори о том, что предел существует.\n",
    "\n",
    "Давайте выразим $N(\\varepsilon)$, чтобы было видно, что формула верна при $\\forall\\varepsilon>0$.\n",
    "\n",
    "### $$\\frac{1}{2^{N(\\varepsilon)}}=\\varepsilon \\,\\,\\,\\Rightarrow\\,\\,\\, 2^{N(\\varepsilon)}=\\frac{1}{\\varepsilon}\\,\\,\\,\\Rightarrow\\,\\,\\, N(\\varepsilon)=-\\log_2 \\varepsilon$$\n",
    "\n",
    "Как к этому относиться с точки зрения программирования?  \n",
    "\n",
    "$\\varepsilon$ - это погрешность измерения. Смысл в том, что каку бы с Вами погрешность не зададим, мы всегда по получено оценки можем найти номер $N$. После которого все члены последовательности $a_n$ будут близки к пределу."
   ]
  },
  {
   "cell_type": "code",
   "execution_count": null,
   "metadata": {
    "id": "FSegBI93I9Tw",
    "outputId": "d77e04d9-cedc-462d-efd3-12962e2abceb"
   },
   "outputs": [
    {
     "name": "stdout",
     "output_type": "stream",
     "text": [
      "eps=1e-08 N=26.5754247590989\n",
      "a_27=7.450580596923828e-09\n"
     ]
    }
   ],
   "source": [
    "import math\n",
    "eps = 0.00000001\n",
    "N = -math.log(eps,2)\n",
    "\n",
    "print (f'eps={eps}', f'N={N}')\n",
    "\n",
    "n = int(N+1)\n",
    "\n",
    "print (f'a_{n}={1/2**n}')"
   ]
  },
  {
   "cell_type": "markdown",
   "metadata": {
    "id": "4NHWO97zI9Tx"
   },
   "source": [
    "Так же эту эпсилон используют для сравнения величин, если мы не уверены в правильности расчётов. Как ответ получится в результате выполнения кода?"
   ]
  },
  {
   "cell_type": "code",
   "execution_count": null,
   "metadata": {
    "id": "w6-hWPuaI9Tz",
    "outputId": "91e1c243-9185-46e7-bdc8-318783b60bd6"
   },
   "outputs": [
    {
     "name": "stdout",
     "output_type": "stream",
     "text": [
      "4.0\n",
      "True\n"
     ]
    }
   ],
   "source": [
    "a = 16**(1/2) # должно быть равно 4\n",
    "b = 4\n",
    "print (a)\n",
    "if a == b:\n",
    "    print (True)\n",
    "else:\n",
    "    print (False)"
   ]
  },
  {
   "cell_type": "code",
   "execution_count": null,
   "metadata": {
    "id": "9WraMUG9I9T0",
    "outputId": "f3d16613-f55b-4d92-a7f2-4788b1cf9e90"
   },
   "outputs": [
    {
     "name": "stdout",
     "output_type": "stream",
     "text": [
      "3.9999999999999996\n",
      "False\n"
     ]
    }
   ],
   "source": [
    "a = 8**(2/3) # должно быть равно 4\n",
    "b = 4\n",
    "print (a)\n",
    "if a == b:\n",
    "    print (True)\n",
    "else:\n",
    "    print (False)"
   ]
  },
  {
   "cell_type": "code",
   "execution_count": null,
   "metadata": {
    "id": "Upu-Xl8EI9T1",
    "outputId": "8b228326-1ae7-49c5-f1e9-37419c46ae92"
   },
   "outputs": [
    {
     "name": "stdout",
     "output_type": "stream",
     "text": [
      "True\n"
     ]
    }
   ],
   "source": [
    "eps = 0.0000001\n",
    "\n",
    "a = 8**(2/3) # должно быть равно 4\n",
    "b = 4\n",
    "if abs(a-b) < eps:\n",
    "    print (True)\n",
    "else:\n",
    "    print (False)"
   ]
  },
  {
   "cell_type": "markdown",
   "metadata": {
    "id": "Tn9uXxbFI9T2"
   },
   "source": [
    "Бывают задачи, когда заранее известно, что у последовательности предел существует. А аналитически вычислить его тяжело, тогда можно взять алгоритм на подобии критерия Коши.\n",
    "\n",
    "Возьмем сходящуюся последовательности \n",
    "\n",
    "### $$a_n=\\frac{n^2+1}{2n^2+3n+2}\\,\\,\\,\\,\\,\\Rightarrow\\,\\,\\,\\,\\,\\Bigl\\{a_n\\Bigr\\}_{n=1}^\\infty=\\Bigl\\{\\frac{2}{7}, \\frac{5}{16}, \\frac{10}{29}, \\frac{17}{46}, ..., \\frac{n^2+1}{2n^2+3n+2},...\\Bigr\\}$$\n",
    "\n",
    "Найдем её предел с заданной точность (это случаи — это точность между соседними членами последовательности, а не между членами и самим пределом)."
   ]
  },
  {
   "cell_type": "code",
   "execution_count": null,
   "metadata": {
    "id": "O1c9AUufI9T3",
    "outputId": "62e8932e-4ce3-4260-cceb-55f38f9fa05e"
   },
   "outputs": [
    {
     "name": "stdout",
     "output_type": "stream",
     "text": [
      "Численное значение предела: 0.49999972609978693\n",
      " Погрешность: 9.997558336749535e-14\n",
      " Число шагов: 2738222\n"
     ]
    }
   ],
   "source": [
    "eps = 0.0000000000001\n",
    "lim=1\n",
    "\n",
    "n = 2\n",
    "a2=2/7\n",
    "\n",
    "while lim > eps:\n",
    "    a1 = a2\n",
    "    a2 = (n**2+1)/(2*n**2+3*n+2)\n",
    "    lim = abs(a1-a2)\n",
    "    n += 1\n",
    "print (f'Численное значение предела: {a2}\\n',f'Погрешность: {lim}\\n', f'Число шагов: {n-1}')\n"
   ]
  },
  {
   "cell_type": "markdown",
   "metadata": {
    "id": "geewMHelI9T5"
   },
   "source": [
    "В пределе должно было получится $0.5$. Видно, что численное значение предела отличается от самого предела больше чем на $\\varepsilon$"
   ]
  },
  {
   "cell_type": "markdown",
   "metadata": {
    "id": "5R7k5utyI9T5"
   },
   "source": [
    "### Замечание \n",
    "\n",
    "Давайте еще раз рассмотрим критерий сходимости Коши\n",
    "\n",
    "### $$\\forall\\varepsilon>0\\,\\,\\,\\exists N(\\varepsilon), \\,\\,\\,\\forall n>N(\\varepsilon)\\,\\,\\,\\forall k\\geq1:|a_n-a_{n+k}|<\\varepsilon$$\n",
    "\n",
    "Мы легко может составить противоположное высказывание с помощью законов де Моргана\n",
    "\n",
    "### $$\\exists\\varepsilon>0\\,\\,\\,\\forall N(\\varepsilon), \\,\\,\\,\\exists n>N(\\varepsilon)\\,\\,\\,\\exists k\\geq1:|a_n-a_{n+k}|\\geq\\varepsilon$$\n",
    "\n",
    "Мы получили новое выражение, которое называется критерием расходимости Коши. С помощью него доказывают то, что у последовательности предел равен $\\pm\\infty$.\n"
   ]
  },
  {
   "cell_type": "markdown",
   "metadata": {
    "id": "PDMWLdk8I9T6"
   },
   "source": [
    "### Примеры аналитических вычислений предела последовательности\n",
    "\n",
    "#### Степени\n",
    "\n",
    "1. \n",
    "### $$\\lim_{n\\to \\infty} \\frac{10000n}{n^2+1}=\\Bigl(\\frac{\\infty}{\\infty}\\Bigr)$$\n",
    "\n",
    "В первую очередь необходимо всегда проверять предельное значение. В данном примере при подстановки вместо $n$ бесконечности мы получаем с Вами самых простой тип неопределенности $\\Bigl(\\frac{\\infty}{\\infty}\\Bigr)$. \n",
    "\n",
    "В нашем примере только степени, поэтому правило для вычисления предела довольно простое:\n",
    "\n",
    "- если максимальная степень числителя меньше максимальной степени знаменателя, то предел равен $0$; \n",
    "- если максимальная степень числителя больше максимальной степени знаменателя, то предел равен $\\pm\\infty$; \n",
    "- если максимальная степень числителя равна максимальной степени знаменателя, то предел равен коэффициентам при этих степенях.\n",
    "\n",
    "### $$\\lim_{n\\to \\infty} \\frac{10000n}{n^2+1}=\\Bigl(\\frac{\\infty}{\\infty}\\Bigr)=0$$"
   ]
  },
  {
   "cell_type": "markdown",
   "metadata": {
    "id": "vGwn2rVYI9T7"
   },
   "source": [
    "2. \n",
    "### $$\\lim_{n\\to \\infty} \\frac{\\sqrt[3]{n^2}\\sin{(1000000n)}}{n+1}=\\Bigl(\\frac{\\infty}{\\infty}\\Bigr)$$\n",
    "\n",
    "В данном примере $\\sqrt[3]{n^2}=n^\\frac{2}{3}$. Т.е. максимальная степень числителя меньше максимальной степени знаменателя. При этом на $\\sin{(1000000n)}$ можно не обращать внимания, т.е при $n\\to \\infty$ это всего лишь какая-то ограниченная величина в интервале $[-1,1]$.  \n",
    "\n",
    "### $$\\lim_{n\\to \\infty} \\frac{\\sqrt[3]{n^2}\\sin{(1000000n)}}{n+1}=\\Bigl(\\frac{\\infty}{\\infty}\\Bigr)=0$$\n"
   ]
  },
  {
   "cell_type": "markdown",
   "metadata": {
    "id": "22k-CceDI9T8"
   },
   "source": [
    "3. \n",
    "### $$\\lim_{n\\to \\infty} \\frac{2n^2-9}{3n^2+n+1}=\\Bigl(\\frac{\\infty}{\\infty}\\Bigr)$$\n",
    "\n",
    "В данном примере максимальная степень числителя равна максимальной степени знаменателя. Для кого-то это будет нагляднее, если вынести эти максимальные степени за скобку. Но на больших примерах делать это не рекомендую.\n",
    "\n",
    "### $$\\lim_{n\\to \\infty} \\frac{2n^2-9}{3n^2+n+1}=\\Bigl(\\frac{\\infty}{\\infty}\\Bigr)=\\lim_{n\\to \\infty} \\frac{n^2(2-\\frac{9}{n^2})}{n^2(3+\\frac{1}{n}+\\frac{1}{n^2})}=$$\n",
    "\n",
    "### $$=\\lim_{n\\to \\infty} \\frac{2-\\frac{9}{n^2}}{3+\\frac{1}{n}+\\frac{1}{n^2}}=\\frac{2}{3}$$"
   ]
  },
  {
   "cell_type": "markdown",
   "metadata": {
    "id": "t2LdR6KQI9T8"
   },
   "source": [
    "4. \n",
    "### $$\\lim_{n\\to \\infty} \\frac{(1-2n)^2}{(2-n)(5n-1)}=\\Bigl(\\frac{\\infty}{\\infty}\\Bigr)$$\n",
    "\n",
    "Достаточно проверить равны или нет максимальные степени и записать ответ\n",
    "\n",
    "### $$\\lim_{n\\to \\infty} \\frac{(1-2n)^2}{(2-n)(5n-1)}=\\Bigl(\\frac{\\infty}{\\infty}\\Bigr)=\\frac{(-2)^2}{-1\\cdot5}=-\\frac{4}{5}$$"
   ]
  },
  {
   "cell_type": "markdown",
   "metadata": {
    "id": "4qbsQPRkI9T9"
   },
   "source": [
    "5. \n",
    "### $$\\lim_{n\\to \\infty} (\\sqrt{n+1}-\\sqrt{n})=(\\infty-\\infty)$$\n",
    "\n",
    "Второй по сложности тип неопределенности - это неопределенность $(\\infty-\\infty)$. Как правило встречается в виде иррационального выражения и сводится к неопределенности $\\Bigl(\\frac{\\infty}{\\infty}\\Bigr)$ путем умножения и деления на сопряженное выражение.\n",
    "\n",
    "### $$\\lim_{n\\to \\infty} (\\sqrt{n+1}-\\sqrt{n})=(\\infty-\\infty)=$$\n",
    "\n",
    "### $$=\\lim_{n\\to \\infty} (\\sqrt{n+1}-\\sqrt{n})\\cdot\\frac{\\sqrt{n+1}+\\sqrt{n}}{\\sqrt{n+1}+\\sqrt{n}}=$$\n",
    "\n",
    "### $$=\\lim_{n\\to \\infty} \\frac{n+1-n}{\\sqrt{n+1}+\\sqrt{n}}=$$\n",
    "\n",
    "### $$=\\lim_{n\\to \\infty} \\frac{1}{\\sqrt{n+1}+\\sqrt{n}}=\\Bigl(\\frac{1}{\\infty}\\Bigr)=0$$\n"
   ]
  },
  {
   "cell_type": "markdown",
   "metadata": {
    "id": "IHKxbLvJI9T9"
   },
   "source": [
    "#### Показатели\n",
    "\n",
    "6. \n",
    "### $$\\lim_{n\\to \\infty} \\frac{3^n}{3^{n+1}}=\\Bigl(\\frac{\\infty}{\\infty}\\Bigr)$$\n",
    "\n",
    "Правило для пределов с показателями другие. В этом примере \n",
    "\n",
    "### $$\\frac{3^n}{3^{n+1}}=\\frac{3^n}{3^n\\cdot3}=\\frac{1}{3}$$\n",
    "\n",
    "### $$\\lim_{n\\to \\infty} \\frac{3^n}{3^{n+1}}=\\Bigl(\\frac{\\infty}{\\infty}\\Bigr)=\\frac{1}{3}$$\n",
    "\n",
    "В этих примерах стоит обращать внимание уже на основание, а не на степень."
   ]
  },
  {
   "cell_type": "markdown",
   "metadata": {
    "id": "51_CepgqI9T-"
   },
   "source": [
    "7. \n",
    "### $$\\lim_{n\\to \\infty} \\frac{2^n}{3^n}=\\Bigl(\\frac{\\infty}{\\infty}\\Bigr)$$\n",
    "\n",
    "В этом примере основание числителя меньше знаменателя, поэтому \n",
    "\n",
    "### $$\\lim_{n\\to \\infty} \\frac{2^n}{3^n}=\\Bigl(\\frac{\\infty}{\\infty}\\Bigr)=\\lim_{n\\to \\infty} \\Bigl(\\frac{2}{3}\\Bigr)^n=0$$"
   ]
  },
  {
   "cell_type": "markdown",
   "metadata": {
    "id": "_D11TpVRI9T_"
   },
   "source": [
    "8. \n",
    "### $$\\lim_{n\\to \\infty} \\frac{(-2)^n+3^n}{(-2)^{n+1}+3^{n+1}}=\\Bigl(\\frac{\\infty}{\\infty}\\Bigr)$$\n",
    "\n",
    "В данном примере достаточно вынести за скобку максимальное по модулю основание.\n",
    "\n",
    "### $$\\lim_{n\\to \\infty} \\frac{(-2)^n+3^n}{(-2)^{n+1}+3^{n+1}}=\\Bigl(\\frac{\\infty}{\\infty}\\Bigr)=$$\n",
    "\n",
    "### $$=\\lim_{n\\to \\infty} \\frac{3^n\\Bigl(\\Bigl(-\\frac{2}{3}\\Bigr)^n+1\\Bigr)}{3^n\\Bigl(-2\\Bigl(-\\frac{2}{3}\\Bigr)^n+3\\Bigr)}=\\frac{1}{3}$$\n",
    "\n",
    "Эти же пределы можно найти аналитически и с помощью библиотеки sympy\n"
   ]
  },
  {
   "cell_type": "code",
   "execution_count": null,
   "metadata": {
    "id": "xLS6YCdJI9T_"
   },
   "outputs": [],
   "source": [
    "from sympy import *\n",
    "init_printing()"
   ]
  },
  {
   "cell_type": "code",
   "execution_count": null,
   "metadata": {
    "id": "0ERS7dE_I9UA",
    "outputId": "a770997f-c830-4879-8142-2d14db1f079e"
   },
   "outputs": [
    {
     "data": {
      "image/png": "[encoded data removed]",
      "text/latex": [
       "$\\displaystyle a + b$"
      ],
      "text/plain": [
       "a + b"
      ]
     },
     "execution_count": 20,
     "metadata": {
      "tags": []
     },
     "output_type": "execute_result"
    }
   ],
   "source": [
    "a = Symbol('a') # для одной переменной Symbol\n",
    "b = Symbol('b')\n",
    "x = a + b\n",
    "x"
   ]
  },
  {
   "cell_type": "code",
   "execution_count": null,
   "metadata": {
    "id": "yN8FkXWXI9UB",
    "outputId": "97dec0a8-4a35-4a28-e894-dfabec6cc692"
   },
   "outputs": [
    {
     "data": {
      "image/png": "[encoded data removed]",
      "text/latex": [
       "$\\displaystyle a + \\left(c + d\\right)^{2}$"
      ],
      "text/plain": [
       "           2\n",
       "a + (c + d) "
      ]
     },
     "execution_count": 22,
     "metadata": {
      "tags": []
     },
     "output_type": "execute_result"
    }
   ],
   "source": [
    "c, d = symbols('c d') # для нескольких переменных symbols\n",
    "y = x.subs(b,(c+d)**2) # подставили значения в х и сохранили в у\n",
    "y"
   ]
  },
  {
   "cell_type": "code",
   "execution_count": null,
   "metadata": {
    "id": "752HmcMII9UC",
    "outputId": "a4268dd5-0a48-4316-9927-32a00e4d034d"
   },
   "outputs": [
    {
     "data": {
      "image/png": "[encoded data removed]",
      "text/latex": [
       "$\\displaystyle a + b$"
      ],
      "text/plain": [
       "a + b"
      ]
     },
     "execution_count": 23,
     "metadata": {
      "tags": []
     },
     "output_type": "execute_result"
    }
   ],
   "source": [
    "x.expand(a) # х не изменился"
   ]
  },
  {
   "cell_type": "code",
   "execution_count": null,
   "metadata": {
    "id": "otJWRkcgI9UD",
    "outputId": "779e732f-e348-4408-b3dd-fbff1b949a7b"
   },
   "outputs": [
    {
     "data": {
      "image/png": "[encoded data removed]",
      "text/latex": [
       "$\\displaystyle a + c^{2} + 2 c d + d^{2}$"
      ],
      "text/plain": [
       "     2            2\n",
       "a + c  + 2⋅c⋅d + d "
      ]
     },
     "execution_count": 24,
     "metadata": {
      "tags": []
     },
     "output_type": "execute_result"
    }
   ],
   "source": [
    "y.expand(a)"
   ]
  },
  {
   "cell_type": "code",
   "execution_count": null,
   "metadata": {
    "id": "hz-Raq_3I9UD",
    "outputId": "3eaff65b-1f8a-486b-9c63-bbfa4c8c405d"
   },
   "outputs": [
    {
     "data": {
      "image/png": "[encoded data removed]",
      "text/latex": [
       "$\\displaystyle 7$"
      ],
      "text/plain": [
       "7"
      ]
     },
     "execution_count": 25,
     "metadata": {
      "tags": []
     },
     "output_type": "execute_result"
    }
   ],
   "source": [
    "z = y.subs({a:3,c:d, d:1}) # так же можно подставлять числа\n",
    "z"
   ]
  },
  {
   "cell_type": "code",
   "execution_count": null,
   "metadata": {
    "id": "a3IDRAS4I9UE",
    "outputId": "aa0ad560-e5e7-4978-f4c9-c8a523535e81"
   },
   "outputs": [
    {
     "name": "stdout",
     "output_type": "stream",
     "text": [
      "<class 'sympy.core.numbers.Integer'>\n",
      "<class 'sympy.core.numbers.One'>\n",
      "<class 'sympy.core.numbers.Float'>\n",
      "<class 'float'>\n"
     ]
    }
   ],
   "source": [
    "print (type(z))\n",
    "print (type(7/z))\n",
    "print (type(7.0/z))\n",
    "print (type(float(7.0/z)))"
   ]
  },
  {
   "cell_type": "code",
   "execution_count": null,
   "metadata": {
    "id": "jtdd7K4wI9UF",
    "outputId": "d4692b6f-0cab-4ea4-e5ba-aea530d8f274"
   },
   "outputs": [
    {
     "data": {
      "image/png": "[encoded data removed]",
      "text/latex": [
       "$\\displaystyle \\frac{2 n^{2} - 9}{3 n^{2} + n + 1}$"
      ],
      "text/plain": [
       "     2      \n",
       "  2⋅n  - 9  \n",
       "────────────\n",
       "   2        \n",
       "3⋅n  + n + 1"
      ]
     },
     "execution_count": 3,
     "metadata": {
      "tags": []
     },
     "output_type": "execute_result"
    }
   ],
   "source": [
    "n=Symbol('n')\n",
    "a=(2*n**2-9)/(3*n**2+n+1)\n",
    "a"
   ]
  },
  {
   "cell_type": "code",
   "execution_count": null,
   "metadata": {
    "id": "GQAbjagjI9UF",
    "outputId": "383bf225-0780-43e1-ee7b-32b34abb2248"
   },
   "outputs": [
    {
     "data": {
      "image/png": "[encoded data removed]",
      "text/latex": [
       "$\\displaystyle \\frac{2}{3}$"
      ],
      "text/plain": [
       "2/3"
      ]
     },
     "execution_count": 14,
     "metadata": {
      "tags": []
     },
     "output_type": "execute_result"
    }
   ],
   "source": [
    "limit (a,n,oo)"
   ]
  },
  {
   "cell_type": "markdown",
   "metadata": {
    "id": "qHy4Ft6MI9UG"
   },
   "source": [
    "Правда с последним примеров библиотека не справилась"
   ]
  },
  {
   "cell_type": "code",
   "execution_count": null,
   "metadata": {
    "id": "7Rryn_M8I9UG",
    "outputId": "643a26bd-9116-4fd8-f86c-d0d8bc972433"
   },
   "outputs": [
    {
     "data": {
      "image/png": "[encoded data removed]",
      "text/latex": [
       "$\\displaystyle \\frac{\\left(-2\\right)^{n} + 3^{n}}{\\left(-2\\right)^{n + 1} + 3^{n + 1}}$"
      ],
      "text/plain": [
       "        n    n    \n",
       "    (-2)  + 3     \n",
       "──────────────────\n",
       "    n + 1    n + 1\n",
       "(-2)      + 3     "
      ]
     },
     "execution_count": 15,
     "metadata": {
      "tags": []
     },
     "output_type": "execute_result"
    }
   ],
   "source": [
    "n=Symbol('n')\n",
    "b=((-2)**n+3**n)/((-2)**(n+1)+3**(n+1))\n",
    "b"
   ]
  },
  {
   "cell_type": "code",
   "execution_count": null,
   "metadata": {
    "id": "uYYL4EHrI9UH",
    "outputId": "1de2e822-26c3-42b9-fd93-5800027af570"
   },
   "outputs": [
    {
     "ename": "NotImplementedError",
     "evalue": "Result depends on the sign of sign(log(2) + I*pi)",
     "output_type": "error",
     "traceback": [
      "\u001b[1;31m---------------------------------------------------------------------------\u001b[0m",
      "\u001b[1;31mNotImplementedError\u001b[0m                       Traceback (most recent call last)",
      "\u001b[1;32m<ipython-input-16-c9f8d0375cf9>\u001b[0m in \u001b[0;36m<module>\u001b[1;34m\u001b[0m\n\u001b[1;32m----> 1\u001b[1;33m \u001b[0mlimit\u001b[0m \u001b[1;33m(\u001b[0m\u001b[0mb\u001b[0m\u001b[1;33m,\u001b[0m\u001b[0mn\u001b[0m\u001b[1;33m,\u001b[0m\u001b[0moo\u001b[0m\u001b[1;33m)\u001b[0m\u001b[1;33m\u001b[0m\u001b[1;33m\u001b[0m\u001b[0m\n\u001b[0m",
      "\u001b[1;32m~\\Anaconda3\\lib\\site-packages\\sympy\\series\\limits.py\u001b[0m in \u001b[0;36mlimit\u001b[1;34m(e, z, z0, dir)\u001b[0m\n\u001b[0;32m     80\u001b[0m                     % (llim, rlim))\n\u001b[0;32m     81\u001b[0m     \u001b[1;32melse\u001b[0m\u001b[1;33m:\u001b[0m\u001b[1;33m\u001b[0m\u001b[1;33m\u001b[0m\u001b[0m\n\u001b[1;32m---> 82\u001b[1;33m         \u001b[1;32mreturn\u001b[0m \u001b[0mLimit\u001b[0m\u001b[1;33m(\u001b[0m\u001b[0me\u001b[0m\u001b[1;33m,\u001b[0m \u001b[0mz\u001b[0m\u001b[1;33m,\u001b[0m \u001b[0mz0\u001b[0m\u001b[1;33m,\u001b[0m \u001b[0mdir\u001b[0m\u001b[1;33m)\u001b[0m\u001b[1;33m.\u001b[0m\u001b[0mdoit\u001b[0m\u001b[1;33m(\u001b[0m\u001b[0mdeep\u001b[0m\u001b[1;33m=\u001b[0m\u001b[1;32mFalse\u001b[0m\u001b[1;33m)\u001b[0m\u001b[1;33m\u001b[0m\u001b[1;33m\u001b[0m\u001b[0m\n\u001b[0m\u001b[0;32m     83\u001b[0m \u001b[1;33m\u001b[0m\u001b[0m\n\u001b[0;32m     84\u001b[0m \u001b[1;33m\u001b[0m\u001b[0m\n",
      "\u001b[1;32m~\\Anaconda3\\lib\\site-packages\\sympy\\series\\limits.py\u001b[0m in \u001b[0;36mdoit\u001b[1;34m(self, **hints)\u001b[0m\n\u001b[0;32m    261\u001b[0m \u001b[1;33m\u001b[0m\u001b[0m\n\u001b[0;32m    262\u001b[0m         \u001b[1;32mtry\u001b[0m\u001b[1;33m:\u001b[0m\u001b[1;33m\u001b[0m\u001b[1;33m\u001b[0m\u001b[0m\n\u001b[1;32m--> 263\u001b[1;33m             \u001b[0mr\u001b[0m \u001b[1;33m=\u001b[0m \u001b[0mgruntz\u001b[0m\u001b[1;33m(\u001b[0m\u001b[0me\u001b[0m\u001b[1;33m,\u001b[0m \u001b[0mz\u001b[0m\u001b[1;33m,\u001b[0m \u001b[0mz0\u001b[0m\u001b[1;33m,\u001b[0m \u001b[0mdir\u001b[0m\u001b[1;33m)\u001b[0m\u001b[1;33m\u001b[0m\u001b[1;33m\u001b[0m\u001b[0m\n\u001b[0m\u001b[0;32m    264\u001b[0m             \u001b[1;32mif\u001b[0m \u001b[0mr\u001b[0m \u001b[1;32mis\u001b[0m \u001b[0mS\u001b[0m\u001b[1;33m.\u001b[0m\u001b[0mNaN\u001b[0m\u001b[1;33m:\u001b[0m\u001b[1;33m\u001b[0m\u001b[1;33m\u001b[0m\u001b[0m\n\u001b[0;32m    265\u001b[0m                 \u001b[1;32mraise\u001b[0m \u001b[0mPoleError\u001b[0m\u001b[1;33m(\u001b[0m\u001b[1;33m)\u001b[0m\u001b[1;33m\u001b[0m\u001b[1;33m\u001b[0m\u001b[0m\n",
      "\u001b[1;32m~\\Anaconda3\\lib\\site-packages\\sympy\\series\\gruntz.py\u001b[0m in \u001b[0;36mgruntz\u001b[1;34m(e, z, z0, dir)\u001b[0m\n\u001b[0;32m    644\u001b[0m     \u001b[0mr\u001b[0m \u001b[1;33m=\u001b[0m \u001b[1;32mNone\u001b[0m\u001b[1;33m\u001b[0m\u001b[1;33m\u001b[0m\u001b[0m\n\u001b[0;32m    645\u001b[0m     \u001b[1;32mif\u001b[0m \u001b[0mz0\u001b[0m \u001b[1;33m==\u001b[0m \u001b[0moo\u001b[0m\u001b[1;33m:\u001b[0m\u001b[1;33m\u001b[0m\u001b[1;33m\u001b[0m\u001b[0m\n\u001b[1;32m--> 646\u001b[1;33m         \u001b[0mr\u001b[0m \u001b[1;33m=\u001b[0m \u001b[0mlimitinf\u001b[0m\u001b[1;33m(\u001b[0m\u001b[0me\u001b[0m\u001b[1;33m,\u001b[0m \u001b[0mz\u001b[0m\u001b[1;33m)\u001b[0m\u001b[1;33m\u001b[0m\u001b[1;33m\u001b[0m\u001b[0m\n\u001b[0m\u001b[0;32m    647\u001b[0m     \u001b[1;32melif\u001b[0m \u001b[0mz0\u001b[0m \u001b[1;33m==\u001b[0m \u001b[1;33m-\u001b[0m\u001b[0moo\u001b[0m\u001b[1;33m:\u001b[0m\u001b[1;33m\u001b[0m\u001b[1;33m\u001b[0m\u001b[0m\n\u001b[0;32m    648\u001b[0m         \u001b[0mr\u001b[0m \u001b[1;33m=\u001b[0m \u001b[0mlimitinf\u001b[0m\u001b[1;33m(\u001b[0m\u001b[0me\u001b[0m\u001b[1;33m.\u001b[0m\u001b[0msubs\u001b[0m\u001b[1;33m(\u001b[0m\u001b[0mz\u001b[0m\u001b[1;33m,\u001b[0m \u001b[1;33m-\u001b[0m\u001b[0mz\u001b[0m\u001b[1;33m)\u001b[0m\u001b[1;33m,\u001b[0m \u001b[0mz\u001b[0m\u001b[1;33m)\u001b[0m\u001b[1;33m\u001b[0m\u001b[1;33m\u001b[0m\u001b[0m\n",
      "\u001b[1;32m~\\Anaconda3\\lib\\site-packages\\sympy\\series\\gruntz.py\u001b[0m in \u001b[0;36mlimitinf\u001b[1;34m(e, x)\u001b[0m\n\u001b[0;32m    424\u001b[0m         \u001b[0me\u001b[0m \u001b[1;33m=\u001b[0m \u001b[0me\u001b[0m\u001b[1;33m.\u001b[0m\u001b[0msubs\u001b[0m\u001b[1;33m(\u001b[0m\u001b[0mx\u001b[0m\u001b[1;33m,\u001b[0m \u001b[0mp\u001b[0m\u001b[1;33m)\u001b[0m\u001b[1;33m\u001b[0m\u001b[1;33m\u001b[0m\u001b[0m\n\u001b[0;32m    425\u001b[0m         \u001b[0mx\u001b[0m \u001b[1;33m=\u001b[0m \u001b[0mp\u001b[0m\u001b[1;33m\u001b[0m\u001b[1;33m\u001b[0m\u001b[0m\n\u001b[1;32m--> 426\u001b[1;33m     \u001b[0mc0\u001b[0m\u001b[1;33m,\u001b[0m \u001b[0me0\u001b[0m \u001b[1;33m=\u001b[0m \u001b[0mmrv_leadterm\u001b[0m\u001b[1;33m(\u001b[0m\u001b[0me\u001b[0m\u001b[1;33m,\u001b[0m \u001b[0mx\u001b[0m\u001b[1;33m)\u001b[0m\u001b[1;33m\u001b[0m\u001b[1;33m\u001b[0m\u001b[0m\n\u001b[0m\u001b[0;32m    427\u001b[0m     \u001b[0msig\u001b[0m \u001b[1;33m=\u001b[0m \u001b[0msign\u001b[0m\u001b[1;33m(\u001b[0m\u001b[0me0\u001b[0m\u001b[1;33m,\u001b[0m \u001b[0mx\u001b[0m\u001b[1;33m)\u001b[0m\u001b[1;33m\u001b[0m\u001b[1;33m\u001b[0m\u001b[0m\n\u001b[0;32m    428\u001b[0m     \u001b[1;32mif\u001b[0m \u001b[0msig\u001b[0m \u001b[1;33m==\u001b[0m \u001b[1;36m1\u001b[0m\u001b[1;33m:\u001b[0m\u001b[1;33m\u001b[0m\u001b[1;33m\u001b[0m\u001b[0m\n",
      "\u001b[1;32m~\\Anaconda3\\lib\\site-packages\\sympy\\series\\gruntz.py\u001b[0m in \u001b[0;36mmrv_leadterm\u001b[1;34m(e, x)\u001b[0m\n\u001b[0;32m    508\u001b[0m     \u001b[1;31m#\u001b[0m\u001b[1;33m\u001b[0m\u001b[1;33m\u001b[0m\u001b[1;33m\u001b[0m\u001b[0m\n\u001b[0;32m    509\u001b[0m     \u001b[0mw\u001b[0m \u001b[1;33m=\u001b[0m \u001b[0mDummy\u001b[0m\u001b[1;33m(\u001b[0m\u001b[1;34m\"w\"\u001b[0m\u001b[1;33m,\u001b[0m \u001b[0mreal\u001b[0m\u001b[1;33m=\u001b[0m\u001b[1;32mTrue\u001b[0m\u001b[1;33m,\u001b[0m \u001b[0mpositive\u001b[0m\u001b[1;33m=\u001b[0m\u001b[1;32mTrue\u001b[0m\u001b[1;33m,\u001b[0m \u001b[0mfinite\u001b[0m\u001b[1;33m=\u001b[0m\u001b[1;32mTrue\u001b[0m\u001b[1;33m)\u001b[0m\u001b[1;33m\u001b[0m\u001b[1;33m\u001b[0m\u001b[0m\n\u001b[1;32m--> 510\u001b[1;33m     \u001b[0mf\u001b[0m\u001b[1;33m,\u001b[0m \u001b[0mlogw\u001b[0m \u001b[1;33m=\u001b[0m \u001b[0mrewrite\u001b[0m\u001b[1;33m(\u001b[0m\u001b[0mexps\u001b[0m\u001b[1;33m,\u001b[0m \u001b[0mOmega\u001b[0m\u001b[1;33m,\u001b[0m \u001b[0mx\u001b[0m\u001b[1;33m,\u001b[0m \u001b[0mw\u001b[0m\u001b[1;33m)\u001b[0m\u001b[1;33m\u001b[0m\u001b[1;33m\u001b[0m\u001b[0m\n\u001b[0m\u001b[0;32m    511\u001b[0m     \u001b[0mseries\u001b[0m \u001b[1;33m=\u001b[0m \u001b[0mcalculate_series\u001b[0m\u001b[1;33m(\u001b[0m\u001b[0mf\u001b[0m\u001b[1;33m,\u001b[0m \u001b[0mw\u001b[0m\u001b[1;33m,\u001b[0m \u001b[0mlogx\u001b[0m\u001b[1;33m=\u001b[0m\u001b[0mlogw\u001b[0m\u001b[1;33m)\u001b[0m\u001b[1;33m\u001b[0m\u001b[1;33m\u001b[0m\u001b[0m\n\u001b[0;32m    512\u001b[0m     \u001b[1;32mreturn\u001b[0m \u001b[0mseries\u001b[0m\u001b[1;33m.\u001b[0m\u001b[0mleadterm\u001b[0m\u001b[1;33m(\u001b[0m\u001b[0mw\u001b[0m\u001b[1;33m)\u001b[0m\u001b[1;33m\u001b[0m\u001b[1;33m\u001b[0m\u001b[0m\n",
      "\u001b[1;32m~\\Anaconda3\\lib\\site-packages\\sympy\\series\\gruntz.py\u001b[0m in \u001b[0;36mrewrite\u001b[1;34m(e, Omega, x, wsym)\u001b[0m\n\u001b[0;32m    580\u001b[0m         \u001b[0msig\u001b[0m \u001b[1;33m=\u001b[0m \u001b[0msign\u001b[0m\u001b[1;33m(\u001b[0m\u001b[0mg\u001b[0m\u001b[1;33m.\u001b[0m\u001b[0margs\u001b[0m\u001b[1;33m[\u001b[0m\u001b[1;36m0\u001b[0m\u001b[1;33m]\u001b[0m\u001b[1;33m,\u001b[0m \u001b[0mx\u001b[0m\u001b[1;33m)\u001b[0m\u001b[1;33m\u001b[0m\u001b[1;33m\u001b[0m\u001b[0m\n\u001b[0;32m    581\u001b[0m         \u001b[1;32mif\u001b[0m \u001b[0msig\u001b[0m \u001b[1;33m!=\u001b[0m \u001b[1;36m1\u001b[0m \u001b[1;32mand\u001b[0m \u001b[0msig\u001b[0m \u001b[1;33m!=\u001b[0m \u001b[1;33m-\u001b[0m\u001b[1;36m1\u001b[0m\u001b[1;33m:\u001b[0m\u001b[1;33m\u001b[0m\u001b[1;33m\u001b[0m\u001b[0m\n\u001b[1;32m--> 582\u001b[1;33m             \u001b[1;32mraise\u001b[0m \u001b[0mNotImplementedError\u001b[0m\u001b[1;33m(\u001b[0m\u001b[1;34m'Result depends on the sign of %s'\u001b[0m \u001b[1;33m%\u001b[0m \u001b[0msig\u001b[0m\u001b[1;33m)\u001b[0m\u001b[1;33m\u001b[0m\u001b[1;33m\u001b[0m\u001b[0m\n\u001b[0m\u001b[0;32m    583\u001b[0m     \u001b[1;32mif\u001b[0m \u001b[0msig\u001b[0m \u001b[1;33m==\u001b[0m \u001b[1;36m1\u001b[0m\u001b[1;33m:\u001b[0m\u001b[1;33m\u001b[0m\u001b[1;33m\u001b[0m\u001b[0m\n\u001b[0;32m    584\u001b[0m         \u001b[0mwsym\u001b[0m \u001b[1;33m=\u001b[0m \u001b[1;36m1\u001b[0m\u001b[1;33m/\u001b[0m\u001b[0mwsym\u001b[0m  \u001b[1;31m# if g goes to oo, substitute 1/w\u001b[0m\u001b[1;33m\u001b[0m\u001b[1;33m\u001b[0m\u001b[0m\n",
      "\u001b[1;31mNotImplementedError\u001b[0m: Result depends on the sign of sign(log(2) + I*pi)"
     ]
    }
   ],
   "source": [
    "limit (b,n,oo)"
   ]
  },
  {
   "cell_type": "markdown",
   "metadata": {
    "id": "N3Z7bAd8I9UJ"
   },
   "source": [
    "### Замечания\n",
    "\n",
    "Как быть если в примере вчитаются элементы разного типа. Для этого пользуются следящими равенствами:\n",
    "\n",
    "### $$1. \\lim_{n\\to \\infty} \\frac{n^k}{a^n}=0 \\,\\,\\,(a>1\\,\\,\\, \\forall k)\\,\\,\\,\\,\\,\\,\\,\\,\\, 2. \\lim_{n\\to \\infty} \\frac{a^n}{n!}=0$$\n",
    "\n",
    "### $$3. \\lim_{n\\to \\infty} nq^n=0 \\,\\,\\,(|q|<1)\\,\\,\\,\\,\\,\\,\\,\\,\\, 4. \\lim_{n\\to \\infty} \\sqrt[n]{a}=1\\,\\,\\,(a>1)$$\n",
    "\n",
    "### $$5. \\lim_{n\\to \\infty} \\frac{\\log_a n}{n}=0 \\,\\,\\,(a>1)\\,\\,\\,\\,\\,\\,\\,\\,\\, 6. \\lim_{n\\to \\infty} \\sqrt[n]{n}=1$$\n",
    "\n",
    "### $$7. \\lim_{n\\to \\infty} \\frac{1}{\\sqrt[n]{n!}}=0$$\n",
    "\n",
    "Давайте докажем одну из этих формул."
   ]
  },
  {
   "cell_type": "markdown",
   "metadata": {
    "id": "CGZyvCxaI9UJ"
   },
   "source": [
    "### Теорема о двух милиционерах\n",
    "\n",
    "Пусть даны три последовательности \n",
    "\n",
    "### $$\\Bigl\\{a_n\\Bigr\\}_{n=1}^\\infty,\\,\\,\\,\\, \\Bigl\\{b_n\\Bigr\\}_{n=1}^\\infty,\\,\\,\\,\\, \\Bigl\\{c_n\\Bigr\\}_{n=1}^\\infty$$\n",
    "\n",
    "причем:\n",
    "\n",
    "### $$1.\\,\\,\\,\\exists \\lim_{n\\to \\infty} a_n=A$$\n",
    "### $$2.\\,\\,\\,\\exists \\lim_{n\\to \\infty} c_n=A$$\n",
    "### $$3.\\,\\,\\,a_n\\leq b_n \\leq c_n$$\n",
    "\n",
    "тогда \n",
    "\n",
    "### $$\\exists \\lim_{n\\to \\infty} b_n=A$$\n",
    "\n",
    "С помощью данной теоремы как раз можно доказать предыдущие равенствами. Давайте докажем, что\n",
    "\n",
    "### $$\\lim_{n\\to \\infty} \\frac{2^n}{n!}=0$$\n",
    "\n",
    "Для этого достаточно сделать оценку снизу и сверху:\n",
    "\n",
    "### $$0<\\frac{2^n}{n!}=\\frac{2\\cdot2\\cdot2\\cdot...\\cdot2}{1\\cdot2\\cdot3\\cdot...\\cdot n}=2\\cdot1\\cdot\\frac{2}{3}\\cdot\\frac{2}{4}\\cdot...\\cdot\\frac{2}{n}\\leq2\\cdot\\Bigl(\\frac{2}{3}\\Bigr)^{n-2}\\underset{n\\to \\infty}{=}0$$"
   ]
  },
  {
   "cell_type": "markdown",
   "metadata": {
    "id": "3BBfLJwSI9UK"
   },
   "source": [
    "### Второй замечательный предел (число Эйлера, экспонента)\n",
    "\n",
    "Более подробно решением пределов мы займемся на следующем уроке. В том числе и со вторым замечательным пределом. Сегодня только посмотрим чему он равен.\n",
    "\n",
    "### $$\\lim_{n\\to \\infty} \\Bigr(1+\\frac{1}{n}\\Bigl)^n$$\n",
    "\n",
    "Оценим данную последовательность снизу и сверху.\n",
    "\n",
    "Снизу особо оценивать нечего, т.к. при $n=1$ мы получаем самое маленькое значение равное $2$.\n",
    "\n",
    "###  $$\\Bigr(1+\\frac{1}{n}\\Bigl)^n\\geq2$$\n",
    "\n",
    "Оценим сверху:\n",
    "\n",
    "###  $$\\Bigr(1+\\frac{1}{n}\\Bigl)^n\\leq$$\n",
    "\n",
    "###  $$\\leq1+\\frac{n}{1!}\\cdot\\Bigl(\\frac{1}{n}\\Bigr)^1+\\frac{n(n-1)}{2!}\\cdot\\Bigl(\\frac{1}{n}\\Bigr)^2+\\frac{n(n-1)(n-2)}{3!}\\cdot\\Bigl(\\frac{1}{n}\\Bigr)^3+...=$$\n",
    "\n",
    "###  $$=1+1+\\frac{1}{2!}\\cdot\\frac{n(n-1)}{n\\cdot n}+\\frac{1}{3!}\\cdot\\frac{n(n-1)(n-2)}{n\\cdot n\\cdot n}+...\\underset{n\\to \\infty}{=}$$\n",
    "\n",
    "###  $$\\underset{n\\to \\infty}{=}2+\\frac{1}{2!}+\\frac{1}{3!}+...\\leq$$\n",
    "\n",
    "###  $$\\leq2+\\frac{1}{2}+\\frac{1}{4}+\\frac{1}{8}+...+\\frac{1}{2^n}+...=$$\n",
    "\n",
    "###  $$=2+\\frac{\\frac{1}{2}}{1-\\frac{1}{2}}=2+1=3$$\n",
    "\n",
    "Получается, что значение предела\n",
    "\n",
    "### $$\\lim_{n\\to \\infty} \\Bigr(1+\\frac{1}{n}\\Bigl)^n$$\n",
    "\n",
    "находится грубо в диапазоне $[2,3]$. Вычислить точно значение этого предела невозможно, т.к. оно представляет собой бесконечную непереодичную дробь на подобии числа $\\pi$. Данное число называют числом $e$ - число Эйлера или экспонента. Численно можно найти по следящей формуле:\n",
    "\n",
    "### $$e \\approx 2+\\frac{1}{2!}+\\frac{1}{3!}+\\frac{1}{4!}...$$\n"
   ]
  },
  {
   "cell_type": "markdown",
   "metadata": {
    "id": "aU5YNMH9kVqP"
   },
   "source": [
    "## Практическое задание"
   ]
  },
  {
   "cell_type": "markdown",
   "metadata": {
    "id": "SmdURZ_OkVqQ"
   },
   "source": [
    "__1.__ Найти предел последовательности:\n",
    "\n",
    "### $$а)\\,\\,\\,\\,\\lim_{n\\to \\infty} \\frac{(23-2n^2)(3n^2+17)^2}{4n^6+n-1}$$\n",
    "\n",
    "### $$б)\\,\\,\\,\\,\\lim_{n\\to \\infty} \\frac{(97-2n)^3}{2n(3n^2+15)+8n}$$\n",
    "\n",
    "### $$в)\\,\\,\\,\\,\\lim_{n\\to \\infty} \\frac{2n^3+13n(n+18)}{(27-n)(2n+19)^2}$$\n",
    "\n",
    "### $$г)\\,\\,\\,\\,\\lim_{n\\to \\infty} (\\sqrt{n^2+1}-n)$$\n",
    "\n",
    "### $$д)\\,\\,\\,\\,\\lim_{n\\to \\infty} \\frac{(-4)^n+5\\cdot7^n}{(-4)^{n-1}+7^{n+2}}$$\n",
    "\n",
    "### $$e)^*\\,\\,\\,\\,\\lim_{n\\to \\infty} \\Bigl(\\frac{1}{1\\cdot2}+\\frac{1}{2\\cdot3}+\\frac{1}{3\\cdot4}+...+\\frac{1}{(n-1)\\cdot n}\\Bigr)$$"
   ]
  },
  {
   "cell_type": "markdown",
   "metadata": {
    "id": "U7nB-PQaI9UL"
   },
   "source": [
    "__2.__ Представьте $1$ в виде суммы трех рациональных дробей с разными знаменателями и числителем равным $1$."
   ]
  },
  {
   "cell_type": "markdown",
   "metadata": {
    "id": "tCoNtjxgI9UL"
   },
   "source": [
    "__3$^*$.__ Тоже задание, только в виде суммы шести дробей."
   ]
  },
  {
   "cell_type": "markdown",
   "metadata": {
    "id": "optrtoUHI9UM"
   },
   "source": [
    "__4.__ Пользуясь критерием Коши, докажите сходимость последовательности:\n",
    "\n",
    "### $$a_n=\\frac{\\sin1}{2}+\\frac{\\sin2}{2^2}+\\frac{\\sin3}{2^3}+..\\frac{\\sin n}{2^n}\\,\\,\\,\\,\\,\\Rightarrow$$\n",
    "\n",
    "### $$\\Bigl\\{a_n\\Bigr\\}_{n=1}^\\infty=\\Bigl\\{\\frac{\\sin1}{2}, \\frac{\\sin1}{2}+\\frac{\\sin2}{2^2}, ..., a_n,...\\Bigr\\}$$\n",
    "\n",
    "\n",
    "$^*$ Какой член последовательности можно взять в качестве предела с точностью $\\varepsilon=10^{-7}$?"
   ]
  },
  {
   "cell_type": "markdown",
   "metadata": {
    "id": "a2r-dr5MI9UM"
   },
   "source": [
    "__5$^*$.__  Пользуясь критерием Коши, докажите расходимость последовательности:\n",
    "\n",
    "### $$b_n=1+\\frac{1}{2}+\\frac{1}{3}+..\\frac{1}{n}\\,\\,\\,\\,\\,\\Rightarrow$$\n",
    "\n",
    "### $$\\Bigl\\{b_n\\Bigr\\}_{n=1}^\\infty=\\Bigl\\{1, 1+\\frac{1}{2},1+\\frac{1}{2}+\\frac{1}{3}, ..., b_n,...\\Bigr\\}$$"
   ]
  },
  {
   "cell_type": "markdown",
   "metadata": {
    "id": "S0k4hHNxibOb"
   },
   "source": [
    "### Где почитать дополнительно?\n",
    "\n",
    "Зорич I том:\n",
    "\n",
    "- Глава III (параграф 1);"
   ]
  }
 ],
 "metadata": {
  "colab": {
   "collapsed_sections": [],
   "name": "Lesson_3.ipynb",
   "provenance": []
  },
  "kernelspec": {
   "display_name": "Python 3",
   "language": "python",
   "name": "python3"
  },
  "language_info": {
   "codemirror_mode": {
    "name": "ipython",
    "version": 3
   },
   "file_extension": ".py",
   "mimetype": "text/x-python",
   "name": "python",
   "nbconvert_exporter": "python",
   "pygments_lexer": "ipython3",
   "version": "3.8.5"
  }
 },
 "nbformat": 4,
 "nbformat_minor": 1
}
